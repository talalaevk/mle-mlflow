{
 "cells": [
  {
   "cell_type": "code",
   "execution_count": 1,
   "id": "aecbddb4",
   "metadata": {},
   "outputs": [
    {
     "data": {
      "text/html": [
       "<div>\n",
       "<style scoped>\n",
       "    .dataframe tbody tr th:only-of-type {\n",
       "        vertical-align: middle;\n",
       "    }\n",
       "\n",
       "    .dataframe tbody tr th {\n",
       "        vertical-align: top;\n",
       "    }\n",
       "\n",
       "    .dataframe thead th {\n",
       "        text-align: right;\n",
       "    }\n",
       "</style>\n",
       "<table border=\"1\" class=\"dataframe\">\n",
       "  <thead>\n",
       "    <tr style=\"text-align: right;\">\n",
       "      <th></th>\n",
       "      <th>id</th>\n",
       "      <th>customer_id</th>\n",
       "      <th>begin_date</th>\n",
       "      <th>end_date</th>\n",
       "      <th>type</th>\n",
       "      <th>paperless_billing</th>\n",
       "      <th>payment_method</th>\n",
       "      <th>monthly_charges</th>\n",
       "      <th>total_charges</th>\n",
       "      <th>internet_service</th>\n",
       "      <th>...</th>\n",
       "      <th>device_protection</th>\n",
       "      <th>tech_support</th>\n",
       "      <th>streaming_tv</th>\n",
       "      <th>streaming_movies</th>\n",
       "      <th>gender</th>\n",
       "      <th>senior_citizen</th>\n",
       "      <th>partner</th>\n",
       "      <th>dependents</th>\n",
       "      <th>multiple_lines</th>\n",
       "      <th>target</th>\n",
       "    </tr>\n",
       "  </thead>\n",
       "  <tbody>\n",
       "    <tr>\n",
       "      <th>0</th>\n",
       "      <td>17</td>\n",
       "      <td>8191-XWSZG</td>\n",
       "      <td>2015-10-01</td>\n",
       "      <td>NaT</td>\n",
       "      <td>One year</td>\n",
       "      <td>No</td>\n",
       "      <td>Mailed check</td>\n",
       "      <td>20.65</td>\n",
       "      <td>1022.95</td>\n",
       "      <td>None</td>\n",
       "      <td>...</td>\n",
       "      <td>None</td>\n",
       "      <td>None</td>\n",
       "      <td>None</td>\n",
       "      <td>None</td>\n",
       "      <td>Female</td>\n",
       "      <td>0</td>\n",
       "      <td>No</td>\n",
       "      <td>No</td>\n",
       "      <td>No</td>\n",
       "      <td>0</td>\n",
       "    </tr>\n",
       "    <tr>\n",
       "      <th>1</th>\n",
       "      <td>59</td>\n",
       "      <td>3957-SQXML</td>\n",
       "      <td>2017-04-01</td>\n",
       "      <td>NaT</td>\n",
       "      <td>Two year</td>\n",
       "      <td>No</td>\n",
       "      <td>Credit card (automatic)</td>\n",
       "      <td>24.95</td>\n",
       "      <td>894.30</td>\n",
       "      <td>None</td>\n",
       "      <td>...</td>\n",
       "      <td>None</td>\n",
       "      <td>None</td>\n",
       "      <td>None</td>\n",
       "      <td>None</td>\n",
       "      <td>Female</td>\n",
       "      <td>0</td>\n",
       "      <td>Yes</td>\n",
       "      <td>Yes</td>\n",
       "      <td>Yes</td>\n",
       "      <td>0</td>\n",
       "    </tr>\n",
       "  </tbody>\n",
       "</table>\n",
       "<p>2 rows × 22 columns</p>\n",
       "</div>"
      ],
      "text/plain": [
       "   id customer_id begin_date end_date      type paperless_billing   \n",
       "0  17  8191-XWSZG 2015-10-01      NaT  One year                No  \\\n",
       "1  59  3957-SQXML 2017-04-01      NaT  Two year                No   \n",
       "\n",
       "            payment_method  monthly_charges  total_charges internet_service   \n",
       "0             Mailed check            20.65        1022.95             None  \\\n",
       "1  Credit card (automatic)            24.95         894.30             None   \n",
       "\n",
       "   ... device_protection tech_support streaming_tv streaming_movies  gender   \n",
       "0  ...              None         None         None             None  Female  \\\n",
       "1  ...              None         None         None             None  Female   \n",
       "\n",
       "  senior_citizen partner  dependents multiple_lines target  \n",
       "0              0      No          No             No      0  \n",
       "1              0     Yes         Yes            Yes      0  \n",
       "\n",
       "[2 rows x 22 columns]"
      ]
     },
     "execution_count": 1,
     "metadata": {},
     "output_type": "execute_result"
    }
   ],
   "source": [
    "import os\n",
    "import psycopg\n",
    "import pandas as pd\n",
    "from dotenv import load_dotenv\n",
    "load_dotenv()\n",
    "\n",
    "TABLE_NAME = \"users_churn\"\n",
    "\n",
    "connection = {\"target_session_attrs\": \"read-write\"}#\"sslmode\": \"verify-full\"\n",
    "postgres_credentials = {\n",
    "    \"host\": os.getenv(\"DB_DESTINATION_HOST\"),\n",
    "    \"port\": os.getenv(\"DB_DESTINATION_PORT\"),\n",
    "    \"dbname\": os.getenv(\"DB_DESTINATION_NAME\"),\n",
    "    \"user\": os.getenv(\"DB_DESTINATION_USER\"),\n",
    "    \"password\": os.getenv(\"DB_DESTINATION_PASSWORD\"),\n",
    "}\n",
    "connection.update(postgres_credentials)\n",
    "\n",
    "with psycopg.connect(**connection) as conn:\n",
    "    with conn.cursor() as cur:\n",
    "        cur.execute(f\"SELECT * FROM {TABLE_NAME}\")\n",
    "        data = cur.fetchall()\n",
    "        columns = [col[0] for col in cur.description]\n",
    "\n",
    "df = pd.DataFrame(data, columns=columns)\n",
    "\n",
    "df.head(2)"
   ]
  },
  {
   "cell_type": "code",
   "execution_count": 2,
   "id": "6b114b3c",
   "metadata": {},
   "outputs": [],
   "source": [
    "from sklearn.model_selection import train_test_split\n",
    "\n",
    "features = [\n",
    "    'paperless_billing',\n",
    "    'payment_method',\n",
    "    'internet_service',\n",
    "    'online_security',\n",
    "    'online_backup',\n",
    "    'device_protection',\n",
    "    'tech_support',\n",
    "    'streaming_tv',\n",
    "    'streaming_movies',\n",
    "    'gender',\n",
    "    'senior_citizen',\n",
    "    'partner',\n",
    "    'dependents',\n",
    "    'multiple_lines',\n",
    "    \"monthly_charges\",\n",
    "    \"total_charges\"\n",
    "]\n",
    "\n",
    "target = 'target'\n",
    "\n",
    "split_column = \"begin_date\"\n",
    "test_size = 0.2\n",
    "\n",
    "df = df.sort_values(by=[split_column])\n",
    "\n",
    "X_train, X_test, y_train, y_test = train_test_split(\n",
    "    df[features],\n",
    "    df[target],\n",
    "    test_size=test_size,\n",
    "    shuffle=False,\n",
    ") "
   ]
  },
  {
   "cell_type": "code",
   "execution_count": 3,
   "id": "f8d4b8c9",
   "metadata": {},
   "outputs": [],
   "source": [
    "from autofeat import AutoFeatClassifier\n",
    "\n",
    "cat_features = [\n",
    "    'paperless_billing',\n",
    "    'payment_method',\n",
    "    'internet_service',\n",
    "    'online_security',\n",
    "    'online_backup',\n",
    "    'device_protection',\n",
    "    'tech_support',\n",
    "    'streaming_tv',\n",
    "    'streaming_movies',\n",
    "    'gender',\n",
    "    'senior_citizen',\n",
    "    'partner',\n",
    "    'dependents',\n",
    "    'multiple_lines',\n",
    "]\n",
    "num_features = [\"monthly_charges\", \"total_charges\"]\n",
    "\n",
    "features = cat_features + num_features\n",
    "\n",
    "transformations = ('1/', 'log', 'abs', 'sqrt')\n",
    "\n",
    "afc = AutoFeatClassifier(\n",
    "    categorical_cols=cat_features,\n",
    "    transformations=transformations,\n",
    "    feateng_steps=1,\n",
    "    n_jobs=-1\n",
    ")\n",
    "\n",
    "X_train_features = afc.fit_transform(X_train, y_train)\n",
    "X_test_features = afc.transform(X_test)"
   ]
  },
  {
   "cell_type": "markdown",
   "id": "8038a838",
   "metadata": {},
   "source": [
    "## Задача №1"
   ]
  },
  {
   "cell_type": "code",
   "execution_count": 58,
   "id": "ade19438",
   "metadata": {},
   "outputs": [],
   "source": [
    "import os\n",
    "import mlflow\n",
    "import psycopg\n",
    "import pandas as pd\n",
    "import matplotlib.pyplot as plt\n",
    "from catboost import CatBoostClassifier\n",
    "from sklearn.ensemble import RandomForestClassifier\n",
    "from mlxtend.feature_selection import SequentialFeatureSelector as SFS\n",
    "from mlxtend.plotting import plot_sequential_feature_selection as plot_sfs\n",
    "\n",
    "\n",
    "#TABLE_NAME = \"users_churn\"\n",
    "TRACKING_SERVER_HOST = \"127.0.0.1\"\n",
    "TRACKING_SERVER_PORT = 5000\n",
    "\n",
    "EXPERIMENT_NAME = \"churn_fio\"\n",
    "RUN_NAME = \"feature_selection\"\n",
    "REGISTRY_MODEL_NAME = \"churn_model_fio\"\n",
    "FS_ASSETS = \"fs_assets\" "
   ]
  },
  {
   "cell_type": "code",
   "execution_count": 8,
   "id": "1c0ce2ad",
   "metadata": {},
   "outputs": [
    {
     "name": "stdout",
     "output_type": "stream",
     "text": [
      "\n",
      "Sequential Forward Selection (k=10):\n",
      "(6, 9, 11, 12, 14, 15, 20, 22, 25, 39)\n",
      "CV Score:\n",
      "0.7969987601496816\n",
      "\n",
      "Sequential Backward Selection (k=10):\n",
      "(2, 3, 6, 11, 17, 19, 20, 22, 23, 25)\n",
      "CV Score:\n",
      "0.781428212866458\n"
     ]
    }
   ],
   "source": [
    "estimator = RandomForestClassifier(n_estimators=3)\n",
    "\n",
    "sfs = SFS(\n",
    "    estimator, \n",
    "    k_features=10, \n",
    "    forward=True, \n",
    "    floating=False, \n",
    "    scoring='roc_auc',\n",
    "    n_jobs=-1,\n",
    "    cv=4\n",
    ")\n",
    "\n",
    "sbs = SFS(\n",
    "    estimator, \n",
    "    k_features=10, \n",
    "    forward=False, \n",
    "    floating=False, \n",
    "    scoring='roc_auc',\n",
    "    n_jobs=-1,\n",
    "    cv=4\n",
    ")\n",
    "\n",
    "sfs = sfs.fit(X_train_features, y_train)\n",
    "sbs = sbs.fit(X_train_features, y_train)\n",
    "\n",
    "top_sfs = sfs.k_feature_names_\n",
    "top_sbs = sbs.k_feature_names_\n",
    "\n",
    "print('\\nSequential Forward Selection (k=10):')\n",
    "print(sfs.k_feature_idx_)\n",
    "print('CV Score:')\n",
    "print(sfs.k_score_)\n",
    "\n",
    "print('\\nSequential Backward Selection (k=10):')\n",
    "print(sbs.k_feature_idx_)\n",
    "print('CV Score:')\n",
    "print(sbs.k_score_)"
   ]
  },
  {
   "cell_type": "code",
   "execution_count": 10,
   "id": "365db255",
   "metadata": {},
   "outputs": [],
   "source": [
    "sfs_df = pd.DataFrame.from_dict(sfs.get_metric_dict()).T\n",
    "sbs_df = pd.DataFrame.from_dict(sbs.get_metric_dict()).T"
   ]
  },
  {
   "cell_type": "code",
   "execution_count": 15,
   "id": "0b6e2691",
   "metadata": {},
   "outputs": [],
   "source": [
    "os.makedirs(FS_ASSETS, exist_ok=True)\n",
    "\n",
    "sfs_df.to_csv(f\"{FS_ASSETS}/sfs.csv\")\n",
    "sbs_df.to_csv(f\"{FS_ASSETS}/sbs.csv\") "
   ]
  },
  {
   "cell_type": "code",
   "execution_count": 19,
   "id": "b6b1f5a0",
   "metadata": {},
   "outputs": [
    {
     "data": {
      "image/png": "[encoded data removed]",
      "text/plain": [
       "<Figure size 640x480 with 1 Axes>"
      ]
     },
     "metadata": {},
     "output_type": "display_data"
    },
    {
     "data": {
      "text/plain": [
       "<Figure size 640x480 with 0 Axes>"
      ]
     },
     "metadata": {},
     "output_type": "display_data"
    }
   ],
   "source": [
    "import matplotlib.pyplot as plt\n",
    "from mlxtend.plotting import plot_sequential_feature_selection as plot_sfs\n",
    "\n",
    "fig = plot_sfs(sfs.get_metric_dict(), kind='std_dev')\n",
    "\n",
    "plt.title('Sequential Forward Selection (w. StdDev)')\n",
    "plt.grid()\n",
    "plt.show()\n",
    "\n",
    "plt.savefig(f\"{FS_ASSETS}/sfs.png\") "
   ]
  },
  {
   "cell_type": "code",
   "execution_count": 20,
   "id": "b39d74ce",
   "metadata": {},
   "outputs": [
    {
     "data": {
      "image/png": "[encoded data removed]",
      "text/plain": [
       "<Figure size 640x480 with 1 Axes>"
      ]
     },
     "metadata": {},
     "output_type": "display_data"
    },
    {
     "data": {
      "text/plain": [
       "<Figure size 640x480 with 0 Axes>"
      ]
     },
     "metadata": {},
     "output_type": "display_data"
    }
   ],
   "source": [
    "import matplotlib.pyplot as plt\n",
    "from mlxtend.plotting import plot_sequential_feature_selection as plot_sfs\n",
    "\n",
    "fig = plot_sfs(sbs.get_metric_dict(), kind='std_dev')\n",
    "\n",
    "plt.title('Sequential Backward Selection (w. StdDev)')\n",
    "plt.grid()\n",
    "plt.show()\n",
    "\n",
    "plt.savefig(f\"{FS_ASSETS}/sbs.png\") "
   ]
  },
  {
   "cell_type": "markdown",
   "id": "22dd9aed",
   "metadata": {},
   "source": [
    "## Задача №2"
   ]
  },
  {
   "cell_type": "code",
   "execution_count": 25,
   "id": "d14f19a7",
   "metadata": {},
   "outputs": [],
   "source": [
    "interc_features = list(set(top_sbs) & set(top_sfs))\n",
    "union_features = list(set(top_sbs) | set(top_sfs))"
   ]
  },
  {
   "cell_type": "code",
   "execution_count": 26,
   "id": "fa45b150",
   "metadata": {},
   "outputs": [
    {
     "data": {
      "text/plain": [
       "['cat_tech_support_None',\n",
       " 'cat_tech_support_No',\n",
       " 'cat_payment_method_Electronic check',\n",
       " 'cat_online_security_No',\n",
       " 'cat_streaming_tv_None']"
      ]
     },
     "execution_count": 26,
     "metadata": {},
     "output_type": "execute_result"
    }
   ],
   "source": [
    "interc_features"
   ]
  },
  {
   "cell_type": "code",
   "execution_count": 27,
   "id": "1d86ce69",
   "metadata": {},
   "outputs": [
    {
     "data": {
      "text/plain": [
       "['cat_streaming_tv_No',\n",
       " 'cat_multiple_lines_None',\n",
       " 'cat_tech_support_No',\n",
       " 'cat_device_protection_No',\n",
       " 'cat_internet_service_Fiber optic',\n",
       " 'cat_online_security_No',\n",
       " 'cat_online_backup_Yes',\n",
       " 'cat_paperless_billing_Yes',\n",
       " 'cat_device_protection_None',\n",
       " 'cat_tech_support_None',\n",
       " 'cat_online_backup_No',\n",
       " 'cat_payment_method_Electronic check',\n",
       " 'cat_paperless_billing_No',\n",
       " 'cat_streaming_tv_None',\n",
       " 'cat_online_security_Yes']"
      ]
     },
     "execution_count": 27,
     "metadata": {},
     "output_type": "execute_result"
    }
   ],
   "source": [
    "union_features"
   ]
  },
  {
   "cell_type": "markdown",
   "id": "625be601",
   "metadata": {},
   "source": [
    "## Задача №3"
   ]
  },
  {
   "cell_type": "code",
   "execution_count": 28,
   "id": "888498d7",
   "metadata": {},
   "outputs": [
    {
     "name": "stderr",
     "output_type": "stream",
     "text": [
      "2024-03-29 19:51:11,820 INFO: Found credentials in environment variables.\n"
     ]
    }
   ],
   "source": [
    "mlflow.set_tracking_uri(f\"http://{TRACKING_SERVER_HOST}:{TRACKING_SERVER_PORT}\")\n",
    "\n",
    "experiment = mlflow.get_experiment_by_name(EXPERIMENT_NAME)\n",
    "if not experiment:\n",
    "    experiment_id = mlflow.create_experiment(EXPERIMENT_NAME)\n",
    "else:\n",
    "    experiment_id = experiment.experiment_id\n",
    "\n",
    "with mlflow.start_run(run_name=f\"{RUN_NAME}_intersection_and_union\", experiment_id=experiment_id) as run:\n",
    "    run_id = run.info.run_id\n",
    "    mlflow.log_artifacts(FS_ASSETS) "
   ]
  },
  {
   "cell_type": "markdown",
   "id": "0e75b034",
   "metadata": {},
   "source": [
    "## Задача №4"
   ]
  },
  {
   "cell_type": "code",
   "execution_count": 41,
   "id": "573a7cd8",
   "metadata": {},
   "outputs": [],
   "source": [
    "from sklearn.linear_model import LogisticRegression\n",
    "from sklearn.metrics import precision_score, recall_score, f1_score, log_loss, confusion_matrix, roc_auc_score\n",
    "\n",
    "\n",
    "def calculate_metrics(y_test, preds, probs):\n",
    "    metrics = {}\n",
    "\n",
    "    _, err1, _, err2 = confusion_matrix(y_test, preds, normalize='all').ravel()\n",
    "    auc = roc_auc_score(y_test, probs)\n",
    "    precision = precision_score(y_test, preds)\n",
    "    recall = recall_score(y_test, preds)\n",
    "    f1 = f1_score(y_test, preds)\n",
    "    logloss = log_loss(y_test, preds)\n",
    "\n",
    "    metrics[\"err1\"] = err1\n",
    "    metrics[\"err2\"] = err2\n",
    "    metrics[\"auc\"] = auc\n",
    "    metrics[\"precision\"] = precision\n",
    "    metrics[\"recall\"] = recall\n",
    "    metrics[\"f1\"] = f1\n",
    "    metrics[\"logloss\"] = logloss\n",
    "    \n",
    "    return metrics"
   ]
  },
  {
   "cell_type": "code",
   "execution_count": 37,
   "id": "425e785a",
   "metadata": {},
   "outputs": [],
   "source": [
    "model_inter = LogisticRegression()\n",
    "model_inter.fit(X_train_features[interc_features], y_train)\n",
    "preds_inter = model_inter.predict(X_test_features[interc_features])\n",
    "probs_inter = model_inter.predict_proba(X_test_features[interc_features])[:,1]\n",
    "metrics_inter = calculate_metrics(y_test, preds_inter, probs_inter)"
   ]
  },
  {
   "cell_type": "code",
   "execution_count": 59,
   "id": "f2f6432d",
   "metadata": {},
   "outputs": [
    {
     "name": "stderr",
     "output_type": "stream",
     "text": [
      "/home/mle-user/mle_projects/mle-mlflow/.venv_mle_flow/lib/python3.10/site-packages/mlflow/models/signature.py:213: UserWarning: Hint: Inferred schema contains integer column(s). Integer columns in Python cannot represent missing values. If your input data contains missing values at inference time, it will be encoded as floats and will cause a schema enforcement error. The best way to avoid this problem is to infer the model schema based on a realistic data sample (training dataset) that includes missing values. Alternatively, you can declare integer columns as doubles (float64) whenever these columns may have missing values. See `Handling Integers With Missing Values <https://www.mlflow.org/docs/latest/models.html#handling-integers-with-missing-values>`_ for more details.\n",
      "  outputs = _infer_schema(model_output) if model_output is not None else None\n",
      "Successfully registered model 'churn_model_feature_union_interc'.\n",
      "2024/03/29 20:32:06 INFO mlflow.tracking._model_registry.client: Waiting up to 60 seconds for model version to finish creation. Model name: churn_model_feature_union_interc, version 1\n",
      "Created version '1' of model 'churn_model_feature_union_interc'.\n"
     ]
    }
   ],
   "source": [
    "REGISTRY_MODEL_NAME = \"churn_model_feature_union_interc\"\n",
    "RUN_NAME = \"feature_selection_intersection\"\n",
    "\n",
    "mlflow.set_registry_uri(f\"http://{TRACKING_SERVER_HOST}:{TRACKING_SERVER_PORT}\")\n",
    "\n",
    "pip_requirements = \"./requirements.txt\"\n",
    "signature = mlflow.models.infer_signature(X_test_features[interc_features].values, y_test)\n",
    "input_example = X_test_features[interc_features].head(10)\n",
    "metadata = {\"model_type\": \"logistic_regression\"}\n",
    "\n",
    "with mlflow.start_run(run_name=RUN_NAME, experiment_id=experiment_id) as run:\n",
    "    run_id = run.info.run_id\n",
    "    mlflow.log_metrics(metrics_inter)\n",
    "    model_info = mlflow.sklearn.log_model(\n",
    "        sk_model = model_inter,\n",
    "        artifact_path = \"models\",\n",
    "        signature = signature,\n",
    "        input_example = input_example,\n",
    "        pip_requirements = pip_requirements,\n",
    "        metadata = metadata,\n",
    "        registered_model_name=REGISTRY_MODEL_NAME,\n",
    "        await_registration_for=60\n",
    "    )"
   ]
  },
  {
   "cell_type": "code",
   "execution_count": 61,
   "id": "1f0b7561",
   "metadata": {},
   "outputs": [],
   "source": [
    "model_union = LogisticRegression()\n",
    "model_union.fit(X_train_features[union_features], y_train)\n",
    "preds_union = model_union.predict(X_test_features[union_features])\n",
    "probs_union = model_union.predict_proba(X_test_features[union_features])[:,1]\n",
    "metrics_union = calculate_metrics(y_test, preds_union, probs_union)"
   ]
  },
  {
   "cell_type": "code",
   "execution_count": 62,
   "id": "4ebd7b3b",
   "metadata": {},
   "outputs": [
    {
     "name": "stderr",
     "output_type": "stream",
     "text": [
      "/home/mle-user/mle_projects/mle-mlflow/.venv_mle_flow/lib/python3.10/site-packages/mlflow/models/signature.py:213: UserWarning: Hint: Inferred schema contains integer column(s). Integer columns in Python cannot represent missing values. If your input data contains missing values at inference time, it will be encoded as floats and will cause a schema enforcement error. The best way to avoid this problem is to infer the model schema based on a realistic data sample (training dataset) that includes missing values. Alternatively, you can declare integer columns as doubles (float64) whenever these columns may have missing values. See `Handling Integers With Missing Values <https://www.mlflow.org/docs/latest/models.html#handling-integers-with-missing-values>`_ for more details.\n",
      "  outputs = _infer_schema(model_output) if model_output is not None else None\n",
      "Registered model 'churn_model_feature_union_interc' already exists. Creating a new version of this model...\n",
      "2024/03/29 20:32:15 INFO mlflow.tracking._model_registry.client: Waiting up to 60 seconds for model version to finish creation. Model name: churn_model_feature_union_interc, version 2\n",
      "Created version '2' of model 'churn_model_feature_union_interc'.\n"
     ]
    }
   ],
   "source": [
    "REGISTRY_MODEL_NAME = \"churn_model_feature_union_interc\"\n",
    "RUN_NAME = \"feature_selection_union\"\n",
    "\n",
    "mlflow.set_registry_uri(f\"http://{TRACKING_SERVER_HOST}:{TRACKING_SERVER_PORT}\")\n",
    "\n",
    "pip_requirements = \"./requirements.txt\"\n",
    "signature = mlflow.models.infer_signature(X_test_features[union_features].values, y_test)\n",
    "input_example = X_test_features[union_features].head(10)\n",
    "metadata = {\"model_type\": \"logistic_regression\"}\n",
    "\n",
    "with mlflow.start_run(run_name=RUN_NAME, experiment_id=experiment_id) as run:\n",
    "    run_id = run.info.run_id\n",
    "    mlflow.log_metrics(metrics_union)\n",
    "    model_info = mlflow.sklearn.log_model(\n",
    "        sk_model = model_union,\n",
    "        artifact_path = \"models\",\n",
    "        signature = signature,\n",
    "        input_example = input_example,\n",
    "        pip_requirements = pip_requirements,\n",
    "        metadata = metadata,\n",
    "        registered_model_name=REGISTRY_MODEL_NAME,\n",
    "        await_registration_for=60\n",
    "    )"
   ]
  },
  {
   "cell_type": "code",
   "execution_count": null,
   "id": "22063487",
   "metadata": {},
   "outputs": [],
   "source": []
  }
 ],
 "metadata": {
  "kernelspec": {
   "display_name": "Python 3 (ipykernel)",
   "language": "python",
   "name": "python3"
  },
  "language_info": {
   "codemirror_mode": {
    "name": "ipython",
    "version": 3
   },
   "file_extension": ".py",
   "mimetype": "text/x-python",
   "name": "python",
   "nbconvert_exporter": "python",
   "pygments_lexer": "ipython3",
   "version": "3.10.12"
  }
 },
 "nbformat": 4,
 "nbformat_minor": 5
}
